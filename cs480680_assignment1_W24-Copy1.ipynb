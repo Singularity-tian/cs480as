{
 "cells": [
  {
   "cell_type": "markdown",
   "metadata": {
    "id": "n2dYlHWRAA1a"
   },
   "source": [
    "# W24 CS 480/680 assignment 1 (coding part)\n"
   ]
  },
  {
   "cell_type": "markdown",
   "metadata": {
    "id": "IuEDzbbiAcXo"
   },
   "source": [
    "- Please save a copy of this notebook to avoid losing your changes.\n",
    "- Debug your code and ensure that it can run before submission.\n",
    "- Save the output of each cell. Failure to do so may result in your coding questions not being graded.\n",
    "- Submit your completed version of this notebook.\n",
    "\n"
   ]
  },
  {
   "cell_type": "markdown",
   "metadata": {
    "id": "hu7upEwVALqo"
   },
   "source": [
    "## Implement Your Own Perceptron\n",
    "\n",
    "In this question, you are asked to implement the **Perceptron** algorithm and test with a classification task on the adult dataset. Please refer to the [dataset webpage](https://archive.ics.uci.edu/dataset/53/iris) for details on the dataset, and consult the lecture slides and suggested readings for details on the Perceptron algorithm.\n",
    "\n",
    "- `scikit-learn` or other off-the-shelf Perceptron libraries are not allowed to use.\n",
    "\n",
    "- Please note that `class` column is the label of the dataset. The labellings have three possible values. So you need to implement a multi-class extension of Perceptron.\n",
    "\n",
    "- Recording the accuracy on the training dataset when you train the Perceptron model on the training data, as an iteration. Repeat this step for 10 times.\n",
    "\n",
    "- It is required that you split the dataset into training/testing datasets (80% and 20%, respectively), and we will deduct marks if you don't.\n",
    "\n",
    "- You will get full marks for\n",
    "    - Correctly split data into training set and testing set.\n",
    "    - Correctly implement the perceptron algorithm.\n",
    "    - Correctly handle multiple class.\n",
    "    - A plot on training accuracy vs number of iterations, that relects the progress of the training.\n",
    "    - Final reported accuracy (on the test dataset)."
   ]
  },
  {
   "cell_type": "code",
   "execution_count": 16,
   "metadata": {
    "id": "gl0lxf-V-LYF"
   },
   "outputs": [],
   "source": [
    "import urllib.request\n",
    "import pandas as pd\n",
    "import numpy as np\n",
    "import matplotlib.pyplot as plt\n",
    "# TODO: add any other package you need\n",
    "\n",
    "# Download the dataset\n",
    "url = 'https://archive.ics.uci.edu/ml/machine-learning-databases/iris/iris.data'\n",
    "filename = 'iris.csv'\n",
    "urllib.request.urlretrieve(url, filename)\n",
    "\n",
    "column_names = [\n",
    "    'sepal_length', 'sepal_width', 'petal_length', 'petal_width', 'class'\n",
    "]\n",
    "data = pd.read_csv(filename, names=column_names)\n"
   ]
  },
  {
   "cell_type": "code",
   "execution_count": 17,
   "metadata": {
    "colab": {
     "base_uri": "https://localhost:8080/",
     "height": 206
    },
    "id": "LUWHsWBCiq2f",
    "outputId": "4929de01-c7aa-4ad8-96ab-1ccecb0a9aa2"
   },
   "outputs": [
    {
     "data": {
      "text/html": [
       "<div>\n",
       "<style scoped>\n",
       "    .dataframe tbody tr th:only-of-type {\n",
       "        vertical-align: middle;\n",
       "    }\n",
       "\n",
       "    .dataframe tbody tr th {\n",
       "        vertical-align: top;\n",
       "    }\n",
       "\n",
       "    .dataframe thead th {\n",
       "        text-align: right;\n",
       "    }\n",
       "</style>\n",
       "<table border=\"1\" class=\"dataframe\">\n",
       "  <thead>\n",
       "    <tr style=\"text-align: right;\">\n",
       "      <th></th>\n",
       "      <th>sepal_length</th>\n",
       "      <th>sepal_width</th>\n",
       "      <th>petal_length</th>\n",
       "      <th>petal_width</th>\n",
       "      <th>class</th>\n",
       "    </tr>\n",
       "  </thead>\n",
       "  <tbody>\n",
       "    <tr>\n",
       "      <th>0</th>\n",
       "      <td>5.1</td>\n",
       "      <td>3.5</td>\n",
       "      <td>1.4</td>\n",
       "      <td>0.2</td>\n",
       "      <td>Iris-setosa</td>\n",
       "    </tr>\n",
       "    <tr>\n",
       "      <th>1</th>\n",
       "      <td>4.9</td>\n",
       "      <td>3.0</td>\n",
       "      <td>1.4</td>\n",
       "      <td>0.2</td>\n",
       "      <td>Iris-setosa</td>\n",
       "    </tr>\n",
       "    <tr>\n",
       "      <th>2</th>\n",
       "      <td>4.7</td>\n",
       "      <td>3.2</td>\n",
       "      <td>1.3</td>\n",
       "      <td>0.2</td>\n",
       "      <td>Iris-setosa</td>\n",
       "    </tr>\n",
       "    <tr>\n",
       "      <th>3</th>\n",
       "      <td>4.6</td>\n",
       "      <td>3.1</td>\n",
       "      <td>1.5</td>\n",
       "      <td>0.2</td>\n",
       "      <td>Iris-setosa</td>\n",
       "    </tr>\n",
       "    <tr>\n",
       "      <th>4</th>\n",
       "      <td>5.0</td>\n",
       "      <td>3.6</td>\n",
       "      <td>1.4</td>\n",
       "      <td>0.2</td>\n",
       "      <td>Iris-setosa</td>\n",
       "    </tr>\n",
       "  </tbody>\n",
       "</table>\n",
       "</div>"
      ],
      "text/plain": [
       "   sepal_length  sepal_width  petal_length  petal_width        class\n",
       "0           5.1          3.5           1.4          0.2  Iris-setosa\n",
       "1           4.9          3.0           1.4          0.2  Iris-setosa\n",
       "2           4.7          3.2           1.3          0.2  Iris-setosa\n",
       "3           4.6          3.1           1.5          0.2  Iris-setosa\n",
       "4           5.0          3.6           1.4          0.2  Iris-setosa"
      ]
     },
     "execution_count": 17,
     "metadata": {},
     "output_type": "execute_result"
    }
   ],
   "source": [
    "data.head()"
   ]
  },
  {
   "cell_type": "markdown",
   "metadata": {
    "id": "_covQQeGU0bK"
   },
   "source": [
    "Code for dataset splitting (training-testing):"
   ]
  },
  {
   "cell_type": "code",
   "execution_count": 18,
   "metadata": {
    "id": "xJ6Xw9T-CHQg"
   },
   "outputs": [
    {
     "name": "stdout",
     "output_type": "stream",
     "text": [
      "30\n"
     ]
    }
   ],
   "source": [
    "# TODO: your implementation\n",
    "X = data.drop('class', axis=1)\n",
    "y = data['class']\n",
    "n = X.shape[0]\n",
    "indices = np.arange(n)\n",
    "np.random.shuffle(indices)\n",
    "X = X.iloc[indices]\n",
    "y = y.iloc[indices]\n",
    "    \n",
    "train = int(n * 0.8)\n",
    "X_train = X.iloc[:train]\n",
    "y_train = y.iloc[:train]\n",
    "X_test = X.iloc[train:]\n",
    "y_test = y.iloc[train:]\n",
    "\n",
    "print(n - train)"
   ]
  },
  {
   "cell_type": "markdown",
   "metadata": {
    "id": "ds-7f6JzVDq3"
   },
   "source": [
    "Code for implemeting the Perceptron algorithm:\n",
    "- You can either implement it as an class/object or implement the training function and the prediction function."
   ]
  },
  {
   "cell_type": "code",
   "execution_count": 19,
   "metadata": {
    "id": "FIq0ss_DVAnU"
   },
   "outputs": [],
   "source": [
    "# TODO: your implementation\n",
    "class Perceptron:\n",
    "    def __init__(self, learning_rate, iterations):\n",
    "        self.lr = learning_rate\n",
    "        self.iterations = iterations\n",
    "        self.weights = None\n",
    "        self.bias = None\n",
    "\n",
    "    def train(self, X, y):\n",
    "        n_samples, n_features = X.shape\n",
    "        self.weights = np.zeros(n_features)\n",
    "        self.bias = 0\n",
    "        self.errors = []\n",
    "\n",
    "        for _ in range(self.iterations):\n",
    "            errors = 0\n",
    "            for idx, x_i in enumerate(X):\n",
    "                y_cur = np.dot(x_i, self.weights) + self.bias\n",
    "                if y_cur * y[idx] <= 0:\n",
    "                    update = self.lr * y[idx]\n",
    "                    self.weights += update * x_i\n",
    "                    self.bias += update\n",
    "                    errors += 1\n",
    "            self.errors.append(errors)\n",
    "        return self\n",
    "\n",
    "\n",
    "    def predict(self, X):\n",
    "        linear_output = np.dot(X, self.weights) + self.bias\n",
    "        return linear_output\n"
   ]
  },
  {
   "cell_type": "markdown",
   "metadata": {
    "id": "Rp0H9r1VYTwg"
   },
   "source": [
    "Code for implementing a wrapper function:\n",
    "- Handling multi-class extension\n",
    "- Feeding in data and call Perceptron training function\n",
    "- Outputing multiple Perceptrons that are trained"
   ]
  },
  {
   "cell_type": "code",
   "execution_count": 29,
   "metadata": {
    "id": "jXLprdF8YMyt"
   },
   "outputs": [],
   "source": [
    "# TODO: your implementation\n",
    "# One vs. All\n",
    "def train_perceptrons(X, y):\n",
    "    classes = np.unique(y)\n",
    "    perceptrons = {}\n",
    "\n",
    "    for cls in classes:\n",
    "        y_binary = np.where(y == cls, 1, -1)\n",
    "        perceptron = Perceptron(1, 10)\n",
    "        perceptron.train(X, y_binary)\n",
    "        perceptrons[cls] = perceptron\n",
    "\n",
    "    return perceptrons\n",
    "\n",
    "def predict_multi_perceptron(X, perceptrons):\n",
    "    predictions = {cls: p.predict(X.values) for cls, p in perceptrons.items()}\n",
    "    predictions_df = pd.DataFrame(predictions)\n",
    "    ## print(predictions_df)\n",
    "    \n",
    "    predicted_classes = predictions_df.idxmax(axis=1)\n",
    "    return predicted_classes\n",
    "\n",
    "# Training Perceptrons\n",
    "perceptrons = train_perceptrons(X_train.values, y_train.values)\n",
    "\n",
    "predicted_classes = predict_multi_perceptron(X_test, perceptrons)\n",
    "\n"
   ]
  },
  {
   "cell_type": "markdown",
   "metadata": {
    "id": "hqC_G4RGVKzr"
   },
   "source": [
    "Code for testing and ploting:\n",
    "\n"
   ]
  },
  {
   "cell_type": "code",
   "execution_count": 21,
   "metadata": {
    "id": "hy2lir66C2AJ"
   },
   "outputs": [
    {
     "data": {
      "image/png": "[encoded data removed]",
      "text/plain": [
       "<Figure size 640x480 with 1 Axes>"
      ]
     },
     "metadata": {},
     "output_type": "display_data"
    }
   ],
   "source": [
    "# TODO: plot the accuracy against the number of iterations\n",
    "def plot_perceptron_training(perceptrons, X):\n",
    "    n_samples = X.shape[0] \n",
    "\n",
    "    for cls, perceptron in perceptrons.items():\n",
    "        accuracies = [(1 - (error / n_samples)) for error in perceptron.errors]\n",
    "        plt.plot(accuracies, label=f'Class {cls}')\n",
    "\n",
    "    plt.xlabel('Iterations')\n",
    "    plt.ylabel('Accuracy')\n",
    "    plt.legend()\n",
    "    plt.title('Perceptron Training Accuracy')\n",
    "    plt.show()\n",
    "\n",
    "plot_perceptron_training(perceptrons, X_train)"
   ]
  },
  {
   "cell_type": "code",
   "execution_count": 30,
   "metadata": {},
   "outputs": [
    {
     "name": "stdout",
     "output_type": "stream",
     "text": [
      "Overall Accuracy: 76.67%\n"
     ]
    }
   ],
   "source": [
    "# TODO: report final accuracy\n",
    "def test_perceptrons(X, y, perceptrons):\n",
    "    predicted_classes = predict_multi_perceptron(X, perceptrons)\n",
    "    ## print(predicted_classes.values == y.values)\n",
    "    accuracy = np.mean(predicted_classes.values == y.values)\n",
    "    print(f\"Overall Accuracy: {accuracy * 100:.2f}%\")\n",
    "\n",
    "test_perceptrons(X_test, y_test, perceptrons)"
   ]
  },
  {
   "cell_type": "code",
   "execution_count": null,
   "metadata": {},
   "outputs": [],
   "source": []
  }
 ],
 "metadata": {
  "colab": {
   "provenance": []
  },
  "kernelspec": {
   "display_name": "Python 3 (ipykernel)",
   "language": "python",
   "name": "python3"
  },
  "language_info": {
   "codemirror_mode": {
    "name": "ipython",
    "version": 3
   },
   "file_extension": ".py",
   "mimetype": "text/x-python",
   "name": "python",
   "nbconvert_exporter": "python",
   "pygments_lexer": "ipython3",
   "version": "3.9.13"
  }
 },
 "nbformat": 4,
 "nbformat_minor": 4
}
