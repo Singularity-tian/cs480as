{
 "cells": [
  {
   "cell_type": "markdown",
   "metadata": {
    "id": "-yQ2Av1NIWTn"
   },
   "source": [
    "# CS 480/680 assignment 2\n",
    "\n",
    "Tips:\n",
    "- Please save a copy of this notebook to avoid losing your changes.\n",
    "- Debug your code and ensure that it can run.\n",
    "- Save the output of each cell. Failure to do so may result in your coding questions not being graded.\n",
    "- To accelerate the training time, you can choose 'Runtime' -> 'Change runtime type' -> 'Hardware accelerator' and set 'Hardware accelerator' to 'GPU'. I tested the code on different devices: A100, T4, and M1 CPU; the execution times for training are approximately 14 minutes, 15 minutes, and 41 minutes, respectively.\n",
    "- Your grade is independent of the test accuracy (unless it is 10%, as 10% is the accuracy of random guess).\n",
    "\n",
    "Tips for sumbission:\n",
    "- Do not change the order of the problems.\n",
    "- Select 'Runtime' -> 'Run all' to run all cells and generate a final \"gradable\" version of your notebook and save your ipynb file.\n",
    "- Also use 'File' -> 'Print' and then print your report from your browser into a PDF file."
   ]
  },
  {
   "cell_type": "code",
   "execution_count": 1,
   "metadata": {
    "id": "bIfyXOkcM4-2"
   },
   "outputs": [],
   "source": [
    "import numpy as np\n",
    "import matplotlib.pyplot as plt\n",
    "import torch\n",
    "import torch.nn as nn\n",
    "import torch.nn.functional as F\n",
    "import torchvision\n",
    "from torchvision import datasets\n",
    "import torchvision.transforms as transforms\n",
    "from torch.optim import Optimizer\n",
    "from torch.utils.data import DataLoader, random_split\n",
    "from tqdm import tqdm\n",
    "from typing import Tuple"
   ]
  },
  {
   "cell_type": "markdown",
   "metadata": {
    "id": "JetnIX7XJTKW"
   },
   "source": [
    "## Helper functions\n",
    "\n",
    "You can use the following functions to verify the correctness of your implementation. For example, you can call ```verify_conv2d()``` to check the effectiveness of your ```Conv2d``` implementation."
   ]
  },
  {
   "cell_type": "code",
   "execution_count": null,
   "metadata": {
    "id": "eZyJtXZtIp6N"
   },
   "outputs": [],
   "source": [
    "def verify_conv2d():\n",
    "    x = torch.randn(1, 3, 32, 32) # 1 image, 3 channels, 32 * 32\n",
    "    in_channels = 3\n",
    "    out_channels = 16\n",
    "    kernel_size = 3 # 3 * 3\n",
    "    stride = 1\n",
    "    padding = 1\n",
    "\n",
    "\n",
    "    conv_pytorch = nn.Conv2d(in_channels, out_channels, kernel_size, stride, padding)\n",
    "    output_pytorch = conv_pytorch(x)\n",
    "\n",
    "    conv_custom = Conv2d(in_channels, out_channels, kernel_size, stride, padding)\n",
    "    conv_custom.weight.data = conv_pytorch.weight.data.clone()\n",
    "    conv_custom.bias.data = conv_pytorch.bias.data.clone()\n",
    "    output_custom = conv_custom(x)\n",
    "    difference = (output_pytorch - output_custom).abs().max()\n",
    "    return (difference < 1e-06).item()"
   ]
  },
  {
   "cell_type": "code",
   "execution_count": null,
   "metadata": {
    "id": "IhOzASnGIy_d"
   },
   "outputs": [],
   "source": [
    "@torch.no_grad\n",
    "def verify_dropout():\n",
    "    p = 0.8 # dropout rate\n",
    "    n = int(1e5)\n",
    "    x = torch.randn(5,)\n",
    "    weight = torch.randn(5,)\n",
    "\n",
    "    y = torch.dot(x, weight)\n",
    "    print('x dot product weight', y)\n",
    "\n",
    "    dropout_pytorch = nn.Dropout(p)\n",
    "    dropout_custom = Dropout(p)\n",
    "\n",
    "    dropout_pytorch.eval()\n",
    "    dropout_custom.eval()\n",
    "\n",
    "    output_pytorch = dropout_pytorch(y)\n",
    "    output_custom = dropout_custom(y)\n",
    "    # should be the same\n",
    "    assert torch.allclose(output_pytorch, output_custom), \"The outputs are not the same in evaluation mode.\"\n",
    "\n",
    "    dropout_pytorch.train()\n",
    "    dropout_custom.train()\n",
    "\n",
    "    pytorch_dropout_train = torch.zeros_like(output_pytorch)\n",
    "    custom_dropout_train = torch.zeros_like(output_custom)\n",
    "\n",
    "    for _ in range(n):\n",
    "        x_hat = dropout_pytorch(x)\n",
    "        pytorch_dropout_train += torch.dot(x_hat, weight)\n",
    "        x_hat = dropout_custom(x)\n",
    "        custom_dropout_train += torch.dot(x_hat, weight)\n",
    "\n",
    "    pytorch_dropout_train /= n\n",
    "    custom_dropout_train /= n\n",
    "    # difference should be smaller than 10^-2\n",
    "    print('Empirical mean of Pytorch Dropout result', pytorch_dropout_train)\n",
    "    print('Empirical mean of Custom Dropout result', custom_dropout_train)"
   ]
  },
  {
   "cell_type": "code",
   "execution_count": null,
   "metadata": {
    "id": "olB9uVEdJA8r"
   },
   "outputs": [],
   "source": [
    "@torch.no_grad\n",
    "def verify_batchnorm():\n",
    "    x = torch.randn(2, 3, 4, 4) # 2 samples, 3 channels, 4 * 4\n",
    "\n",
    "    num_features = x.shape[1]\n",
    "\n",
    "    custom_bn = BatchNorm2d(num_features, eps=1e-5, momentum=0.1)\n",
    "    pytorch_bn = nn.BatchNorm2d(num_features, eps=1e-5, momentum=0.1)\n",
    "\n",
    "    pytorch_bn.weight.data = custom_bn.weight.data.clone()\n",
    "    pytorch_bn.bias.data = custom_bn.bias.data.clone()\n",
    "    pytorch_bn.running_mean = custom_bn.running_mean.clone()\n",
    "    pytorch_bn.running_var = custom_bn.running_var.clone()\n",
    "\n",
    "    custom_bn.train()\n",
    "    pytorch_bn.train()\n",
    "\n",
    "    output_custom = custom_bn(x)\n",
    "    output_pytorch = pytorch_bn(x)\n",
    "\n",
    "    difference = (output_custom - output_pytorch).abs().max()\n",
    "    return (difference < 1e-06).item()"
   ]
  },
  {
   "cell_type": "code",
   "execution_count": 2,
   "metadata": {
    "id": "WZajlqkLJcC0"
   },
   "outputs": [],
   "source": [
    "@torch.no_grad\n",
    "def eval_accuracy(model, eval_loader, device):\n",
    "    model.eval()\n",
    "    n_correct = 0\n",
    "    n_total = 0\n",
    "    for imgs, labels in eval_loader:\n",
    "        imgs, labels = imgs.to(device), labels.to(device)\n",
    "        logits = model(imgs)\n",
    "        _, pred = torch.max(logits, 1)\n",
    "\n",
    "        n_correct += (pred == labels).sum().item()\n",
    "        n_total += len(labels)\n",
    "\n",
    "    return n_correct / n_total"
   ]
  },
  {
   "cell_type": "code",
   "execution_count": 3,
   "metadata": {
    "id": "gZ8GOvVyLTN9"
   },
   "outputs": [],
   "source": [
    "def plot_curves(train_error_rates, val_error_rates):\n",
    "    plt.figure(figsize=(10, 6))\n",
    "    epochs = range(1, len(train_error_rates) + 1)\n",
    "    plt.plot(epochs, train_error_rates, 'bo-', label='Training Error')\n",
    "    plt.plot(epochs, val_error_rates, 'ro-', label='Validation Error')\n",
    "    plt.title('Training and Validation Error Rates')\n",
    "    plt.xlabel('Epochs')\n",
    "    plt.ylabel('Error Rate')\n",
    "    plt.legend()\n",
    "    plt.grid(True)\n",
    "    plt.show()"
   ]
  },
  {
   "cell_type": "code",
   "execution_count": 4,
   "metadata": {
    "id": "WOUxM8HCLoNI"
   },
   "outputs": [],
   "source": [
    "def imshow(img):\n",
    "    img = img / 2 + 0.5\n",
    "    npimg = img.numpy()\n",
    "    plt.imshow(np.transpose(npimg, (1, 2, 0)))\n",
    "\n",
    "classes = ['airplane', 'automobile', 'bird', 'cat', 'deer',\n",
    "           'dog', 'frog', 'horse', 'ship', 'truck']\n",
    "\n",
    "def show_batch(data_loader):\n",
    "    dataiter = iter(train_loader)\n",
    "    images, labels = next(dataiter)\n",
    "    fig = plt.figure(figsize=(25, 4))\n",
    "    for idx in range(20):\n",
    "        ax = fig.add_subplot(2, 10, idx+1, xticks=[], yticks=[])\n",
    "        imshow(images[idx])\n",
    "        ax.set_title(classes[labels[idx]])"
   ]
  },
  {
   "cell_type": "markdown",
   "metadata": {
    "id": "Pjm7j2siKyh9"
   },
   "source": [
    "# Question 1. Loading dataset (5 points)\n",
    "In this question, you are asked to fill out the ```build_loaders```, in other words, to prepare the training, validation, and test sets. In the following code, you need to randomly split ```train_data``` into training and validation sets. We use 80% of ```train_data``` as the training set and the rest of ```train_data``` as the validation set. Please use DataLoader in PyTorch to create three different dataloaders: one each for training, validation, and testing."
   ]
  },
  {
   "cell_type": "code",
   "execution_count": 5,
   "metadata": {
    "colab": {
     "base_uri": "https://localhost:8080/"
    },
    "id": "zaxPAE4wJQkK",
    "outputId": "91ae1c26-e4af-4c0d-b91e-20fdd26d4178"
   },
   "outputs": [
    {
     "data": {
      "text/plain": [
       "<torch._C.Generator at 0x7a2b7813d7d0>"
      ]
     },
     "execution_count": 5,
     "metadata": {},
     "output_type": "execute_result"
    }
   ],
   "source": [
    "device = torch.device(\"cuda\" if torch.cuda.is_available() else \"cpu\")\n",
    "torch.manual_seed(2024)"
   ]
  },
  {
   "cell_type": "code",
   "execution_count": 10,
   "metadata": {
    "colab": {
     "base_uri": "https://localhost:8080/"
    },
    "id": "Avh2Gc1AJM8H",
    "outputId": "eb441c06-7d1d-453a-dcff-11228a539468"
   },
   "outputs": [
    {
     "name": "stdout",
     "output_type": "stream",
     "text": [
      "Downloading https://www.cs.toronto.edu/~kriz/cifar-10-python.tar.gz to data/cifar-10-python.tar.gz\n"
     ]
    },
    {
     "name": "stderr",
     "output_type": "stream",
     "text": [
      "100%|██████████| 170498071/170498071 [00:01<00:00, 99604607.39it/s] \n"
     ]
    },
    {
     "name": "stdout",
     "output_type": "stream",
     "text": [
      "Extracting data/cifar-10-python.tar.gz to data\n",
      "Files already downloaded and verified\n"
     ]
    }
   ],
   "source": [
    "batch_size = 128\n",
    "\n",
    "normalize = transforms.Normalize(mean=[0.485, 0.456, 0.406],\n",
    "                                 std=[0.229, 0.224, 0.225])\n",
    "\n",
    "transform = transforms.Compose([\n",
    "    transforms.RandomHorizontalFlip(),\n",
    "    transforms.RandomCrop(32, 4),\n",
    "    transforms.ToTensor(),\n",
    "    normalize,\n",
    "])\n",
    "\n",
    "\n",
    "train_data = datasets.CIFAR10('data', train=True,\n",
    "                              download=True, transform=transform)\n",
    "test_data = datasets.CIFAR10('data', train=False,\n",
    "                             download=True, transform=transform)"
   ]
  },
  {
   "cell_type": "code",
   "execution_count": 11,
   "metadata": {
    "id": "dx555ITFyMnG"
   },
   "outputs": [],
   "source": [
    "def build_loaders(train_data: torch.utils.data.Dataset,\n",
    "                  test_data: torch.utils.data.Dataset,\n",
    "                  train_ratio: float=0.8,\n",
    "                  val_ratio: float=0.2,\n",
    "                  batch_size:int=batch_size) -> Tuple[DataLoader, DataLoader, DataLoader]:\n",
    "    \"\"\"\n",
    "    Args:\n",
    "    - train_data: CIFAR-10 train data\n",
    "    - test_data: CIFAR-10 test data\n",
    "    - train_ratio: ratio of training\n",
    "    - val_ratio: ratio of validation\n",
    "    - batch_size: Batch size\n",
    "    Returns:\n",
    "    - train_loader: Dataloader for training\n",
    "    - val_loader: Dataloader for validation\n",
    "    - test_loader: Dataloader for test\n",
    "    \"\"\"\n",
    "    # TODO: Random split CIFAR-10 train-validation sets\n",
    "    train_size = int(len(train_data) * train_ratio)\n",
    "    val_size = len(train_data) - train_size\n",
    "    train_dataset, val_dataset = random_split(train_data, [train_size, val_size])\n",
    "\n",
    "    train_loader = DataLoader(train_dataset, batch_size=batch_size, shuffle=True)\n",
    "    val_loader = DataLoader(val_dataset, batch_size=batch_size, shuffle=False)\n",
    "    test_loader = DataLoader(test_data, batch_size=batch_size, shuffle=False)\n",
    "    # TODO: Return train/val/test loaders\n",
    "    return train_loader, val_loader, test_loader\n"
   ]
  },
  {
   "cell_type": "code",
   "execution_count": 12,
   "metadata": {
    "id": "44coe7-Czl36"
   },
   "outputs": [],
   "source": [
    "train_loader, val_loader, test_loader = build_loaders(train_data, test_data)"
   ]
  },
  {
   "cell_type": "markdown",
   "metadata": {
    "id": "rf4360OAMnts"
   },
   "source": [
    "### Visualize a Batch of Training Data"
   ]
  },
  {
   "cell_type": "code",
   "execution_count": null,
   "metadata": {
    "colab": {
     "base_uri": "https://localhost:8080/",
     "height": 543
    },
    "id": "47UhuMrGMnOZ",
    "outputId": "ed65bca2-5fd1-4346-a731-41047f9cdf5a"
   },
   "outputs": [
    {
     "name": "stderr",
     "output_type": "stream",
     "text": [
      "WARNING:matplotlib.image:Clipping input data to the valid range for imshow with RGB data ([0..1] for floats or [0..255] for integers).\n",
      "WARNING:matplotlib.image:Clipping input data to the valid range for imshow with RGB data ([0..1] for floats or [0..255] for integers).\n",
      "WARNING:matplotlib.image:Clipping input data to the valid range for imshow with RGB data ([0..1] for floats or [0..255] for integers).\n",
      "WARNING:matplotlib.image:Clipping input data to the valid range for imshow with RGB data ([0..1] for floats or [0..255] for integers).\n",
      "WARNING:matplotlib.image:Clipping input data to the valid range for imshow with RGB data ([0..1] for floats or [0..255] for integers).\n",
      "WARNING:matplotlib.image:Clipping input data to the valid range for imshow with RGB data ([0..1] for floats or [0..255] for integers).\n",
      "WARNING:matplotlib.image:Clipping input data to the valid range for imshow with RGB data ([0..1] for floats or [0..255] for integers).\n",
      "WARNING:matplotlib.image:Clipping input data to the valid range for imshow with RGB data ([0..1] for floats or [0..255] for integers).\n",
      "WARNING:matplotlib.image:Clipping input data to the valid range for imshow with RGB data ([0..1] for floats or [0..255] for integers).\n",
      "WARNING:matplotlib.image:Clipping input data to the valid range for imshow with RGB data ([0..1] for floats or [0..255] for integers).\n",
      "WARNING:matplotlib.image:Clipping input data to the valid range for imshow with RGB data ([0..1] for floats or [0..255] for integers).\n",
      "WARNING:matplotlib.image:Clipping input data to the valid range for imshow with RGB data ([0..1] for floats or [0..255] for integers).\n",
      "WARNING:matplotlib.image:Clipping input data to the valid range for imshow with RGB data ([0..1] for floats or [0..255] for integers).\n",
      "WARNING:matplotlib.image:Clipping input data to the valid range for imshow with RGB data ([0..1] for floats or [0..255] for integers).\n",
      "WARNING:matplotlib.image:Clipping input data to the valid range for imshow with RGB data ([0..1] for floats or [0..255] for integers).\n",
      "WARNING:matplotlib.image:Clipping input data to the valid range for imshow with RGB data ([0..1] for floats or [0..255] for integers).\n",
      "WARNING:matplotlib.image:Clipping input data to the valid range for imshow with RGB data ([0..1] for floats or [0..255] for integers).\n",
      "WARNING:matplotlib.image:Clipping input data to the valid range for imshow with RGB data ([0..1] for floats or [0..255] for integers).\n",
      "WARNING:matplotlib.image:Clipping input data to the valid range for imshow with RGB data ([0..1] for floats or [0..255] for integers).\n",
      "WARNING:matplotlib.image:Clipping input data to the valid range for imshow with RGB data ([0..1] for floats or [0..255] for integers).\n"
     ]
    },
    {
     "data": {
      "image/png": "[encoded data removed]",
      "text/plain": [
       "<Figure size 2500x400 with 20 Axes>"
      ]
     },
     "metadata": {},
     "output_type": "display_data"
    }
   ],
   "source": [
    "show_batch(train_loader)"
   ]
  },
  {
   "cell_type": "markdown",
   "metadata": {
    "id": "-jJQY-YXNCw4"
   },
   "source": [
    "# Question 2. Implementing Conv2d (20 points)\n",
    "In this question, you are asked to implement a multi-channel convolution operator for 2D images, a.k.a., a 2D cross-correlation operator. If you directly use PyTorch's built-in conv2d class (e.g., ```torch.nn.Conv2d``` or ```torch.nn.functional.conv2d```), you will only receive one mark for this question. But, you're welcome to use Pytorch's built-in ```pad``` function. You can use ```verify_conv2d()``` to compare your Conv2d operator with PyTorch's built-in conv2d operator. Please fill out the ```forward``` function in ```Conv2d```."
   ]
  },
  {
   "cell_type": "code",
   "execution_count": 13,
   "metadata": {
    "id": "DnfpDVNmLPxn"
   },
   "outputs": [],
   "source": [
    "class Conv2d(nn.Module):\n",
    "    def __init__(self, in_channels, out_channels, kernel_size, stride=1, padding=0):\n",
    "        super(Conv2d, self).__init__()\n",
    "\n",
    "        assert in_channels > 0 and out_channels > 0 and kernel_size > 0\n",
    "        self.kernel_size = kernel_size\n",
    "        self.stride = stride\n",
    "        self.padding = padding\n",
    "        self.weight = nn.Parameter(torch.randn(out_channels, in_channels, kernel_size, kernel_size))\n",
    "        self.bias = nn.Parameter(torch.randn(out_channels))\n",
    "\n",
    "    def forward(self, x):\n",
    "        \"\"\"\n",
    "        Args:\n",
    "        - x: input tensor\n",
    "        Returns:\n",
    "        - output: convoluted tensor\n",
    "        \"\"\"\n",
    "        # TODO: 2D cross-correlation operator\n",
    "        x_padded = F.pad(x, (self.padding, self.padding, self.padding, self.padding))\n",
    "\n",
    "        batch_size, _, height, width = x.shape\n",
    "        out_height = (height + 2 * self.padding - self.kernel_size) // self.stride + 1\n",
    "        out_width = (width + 2 * self.padding - self.kernel_size) // self.stride + 1\n",
    "        # output tensor\n",
    "        output = torch.zeros((batch_size, self.weight.shape[0], out_height, out_width), device=x.device, dtype=x.dtype)\n",
    "\n",
    "        for i in range(0, out_height):\n",
    "            for j in range(0, out_width):\n",
    "                h_start = i * self.stride\n",
    "                h_end = h_start + self.kernel_size\n",
    "                w_start = j * self.stride\n",
    "                w_end = w_start + self.kernel_size\n",
    "                # input patch\n",
    "                x_patch = x_padded[:, :, h_start:h_end, w_start:w_end]\n",
    "\n",
    "                # convolution operation\n",
    "                for k in range(self.weight.shape[0]):\n",
    "                    output[:, k, i, j] = torch.sum(x_patch * self.weight[k].unsqueeze(0), dim=(1, 2, 3))\n",
    "\n",
    "        output += self.bias.view(1, -1, 1, 1)\n",
    "\n",
    "        return output\n"
   ]
  },
  {
   "cell_type": "code",
   "execution_count": null,
   "metadata": {
    "colab": {
     "base_uri": "https://localhost:8080/"
    },
    "id": "cZOvdm6u5shj",
    "outputId": "d6dec6f3-35d3-49e8-b6ea-01c35e1ff19b"
   },
   "outputs": [
    {
     "name": "stdout",
     "output_type": "stream",
     "text": [
      "Passed conv2d test: True\n"
     ]
    }
   ],
   "source": [
    "conv2d_passed = verify_conv2d()\n",
    "print('Passed conv2d test:', conv2d_passed)"
   ]
  },
  {
   "cell_type": "markdown",
   "metadata": {
    "id": "RBf8-fxcO99Z"
   },
   "source": [
    "# Question 3. Dropout (20 points)\n",
    "In this question, you are asked to implement a dropout layer. If you directly use PyTorch's built-in dropout class (e.g., ```torch.nn.Dropout``` or ```torch.nn.functional.dropout```), you will only receive one mark for this question."
   ]
  },
  {
   "cell_type": "markdown",
   "metadata": {
    "id": "kLvDfMovP0R7"
   },
   "source": [
    "## Question 3.1 Should We Rescale Our Dropout Output? (10 points)\n",
    "Consider a simple scenario where there is an input vector $\\mathbf{x}$ and a linear layer with weights $\\mathbf{w}$ and zero bias. Before this linear layer, we add a dropout layer with dropout probability $p$. Should we rescale the output of the dropout layer? Please state your choice and explain your reasoning. If you choose to rescale the dropout output, what should the rescale factor be? (Tip: What is the ***unbiased*** estimator for the output during the training time?)"
   ]
  },
  {
   "cell_type": "markdown",
   "metadata": {
    "id": "NnNc3XndRa8t"
   },
   "source": [
    "### Your answer for question 3.1:\n",
    "Yes. Rescaling allows us to maintain the same expected output as if dropout was not applied, ensuring that the network's behavior during training is more similar to how it will be during testing when all neurons are used. The rescale factor should be 1/(1-p)."
   ]
  },
  {
   "cell_type": "markdown",
   "metadata": {
    "id": "YWjsXknhe0Q9"
   },
   "source": [
    "## Question 3.2 Implement your Dropout Layer (10 points)\n",
    "Based on the above question, you should implement your own scaled/unscaled dropout layer. You can use ```verify_dropout()``` to compare your dropout layer with PyTorch's built-in dropout layer. Please fill out the ```forward``` function in ```Dropout```."
   ]
  },
  {
   "cell_type": "code",
   "execution_count": 14,
   "metadata": {
    "id": "dcGR65Q8lX90"
   },
   "outputs": [],
   "source": [
    "class Dropout(nn.Module):\n",
    "    def __init__(self, p):\n",
    "        super(Dropout, self).__init__()\n",
    "        \"\"\"\n",
    "        Args:\n",
    "        - p: dropout rate\n",
    "        \"\"\"\n",
    "        assert p >= 0 and p <= 1\n",
    "        self.p = p\n",
    "\n",
    "    def forward(self, x):\n",
    "        \"\"\"\n",
    "        Args:\n",
    "        - x: input tensor\n",
    "        Returns:\n",
    "        - output: dropout tensor\n",
    "        \"\"\"\n",
    "        # TODO: Dropout layer\n",
    "        if self.training:\n",
    "          mask = (torch.rand(x.size()) >= self.p).float()\n",
    "          return mask * x / (1 - self.p)\n",
    "        else:\n",
    "          return x"
   ]
  },
  {
   "cell_type": "code",
   "execution_count": null,
   "metadata": {
    "colab": {
     "base_uri": "https://localhost:8080/"
    },
    "id": "6crMyRFtKjQm",
    "outputId": "8e7251dc-85fe-4762-a1f9-6ea403e9e827"
   },
   "outputs": [
    {
     "name": "stdout",
     "output_type": "stream",
     "text": [
      "x dot product weight tensor(1.3765)\n",
      "Empirical mean of Pytorch Dropout result tensor(1.3715)\n",
      "Empirical mean of Custom Dropout result tensor(1.3768)\n"
     ]
    }
   ],
   "source": [
    "verify_dropout()"
   ]
  },
  {
   "cell_type": "markdown",
   "metadata": {
    "id": "_kNvxwFYXx1q"
   },
   "source": [
    "# Question 4. Implementing BatchNorm2d (15 points)\n",
    "In this question, you are asked to implement BatchNorm2d for the training stage. If you directly use PyTorch's built-in batch normalization 2d class (e.g., ```torch.nn.BatchNorm2d``` or ```torch.nn.functional.batch_norm```), you will only receive one mark for this question. You can use ```verify_batchnorm()``` to compare your BatchNorm2d with PyTorch's built-in BatchNorm2d. Please fill out the ```forward``` function in ```BatchNoram2d``` for training."
   ]
  },
  {
   "cell_type": "markdown",
   "metadata": {
    "id": "01dvDi3dbe4f"
   },
   "source": [
    "### Tips:\n",
    "During training. Given a batch $\\mathcal{B} = \\{\\mathbf{x}^{(1)}, \\dots, \\mathbf{x}^{(m)}\\}$ with size $m$. We use $\\mathbf{x}^{(i)}$ to represent $j$-th channel in $i$-th sample. For each channel $j$, we need to compute\n",
    "$\\boldsymbol{\\mu}_{j} = \\frac{1}{m}\\sum_{i=1}^{m} \\mathbf{x}^{(i)}_j$ and\n",
    "$\\boldsymbol{\\sigma}_{j}^2 = \\frac{1}{m}\\sum_{i=1}^m (\\mathbf{x}^{(i)}_j - \\boldsymbol{\\mu}_j)^2.$ Then, there are learnable parameters $\\gamma$ and $\\beta$. $$BN(\\mathbf{x}^{(i)}_j) = \\gamma \\frac{\\mathbf{x}^{(i)}_j - \\boldsymbol{\\mu}_j}{\\sqrt{\\boldsymbol{\\sigma}^2_j + \\epsilon}} + \\beta,$$\n",
    "where $\\epsilon$ is a hyperparameter for numerical stability. Again, the above equation is for each channel. If there are three channels, then there are three different $\\gamma$s and $\\beta$s for each channel.\n"
   ]
  },
  {
   "cell_type": "code",
   "execution_count": 15,
   "metadata": {
    "id": "HoYJUj2BX1Y9"
   },
   "outputs": [],
   "source": [
    "class BatchNorm2d(nn.Module):\n",
    "    def __init__(self, num_features, eps=1e-5, momentum=0.1):\n",
    "        super(BatchNorm2d, self).__init__()\n",
    "        self.num_features = num_features\n",
    "        self.eps = eps\n",
    "        self.momentum = momentum\n",
    "\n",
    "        self.weight = nn.Parameter(torch.ones(num_features))\n",
    "        self.bias = nn.Parameter(torch.zeros(num_features))\n",
    "\n",
    "        self.register_buffer('running_mean', torch.zeros(num_features))\n",
    "        self.register_buffer('running_var', torch.ones(num_features))\n",
    "\n",
    "        self.reset_parameters()\n",
    "\n",
    "    def reset_parameters(self):\n",
    "        self.running_mean.zero_()\n",
    "        self.running_var.fill_(1)\n",
    "        nn.init.uniform_(self.weight)\n",
    "        nn.init.zeros_(self.bias)\n",
    "\n",
    "    def forward(self, x):\n",
    "        if self.training:\n",
    "            # TODO: BatchNorm2d in training.\n",
    "            batch_mean = x.mean([0, 2, 3], keepdim=True)\n",
    "            batch_var = x.var([0, 2, 3], keepdim=True, unbiased=False)\n",
    "\n",
    "            x_normalized = (x - batch_mean) / (batch_var + self.eps).sqrt()\n",
    "            x_scaled = x_normalized * self.weight.view(1, self.num_features, 1, 1)\n",
    "            x_shifted = x_scaled + self.bias.view(1, self.num_features, 1, 1)\n",
    "\n",
    "            # Update running statistics without in-place operations\n",
    "            self.running_mean = (1 - self.momentum) * self.running_mean.detach() + self.momentum * batch_mean.detach().squeeze()\n",
    "            self.running_var = (1 - self.momentum) * self.running_var.detach() + self.momentum * x.var([0, 2, 3], keepdim=True, unbiased=True).detach().squeeze()\n",
    "            # Thanks for correction in Piazza.\n",
    "\n",
    "            return x_shifted\n",
    "        else:\n",
    "            x = (x - self.running_mean.view(1, self.num_features, 1, 1)) / \\\n",
    "                (self.running_var.view(1, self.num_features, 1, 1) + self.eps).sqrt()\n",
    "\n",
    "        x = x * self.weight.view(1, self.num_features, 1, 1) + self.bias.view(1, self.num_features, 1, 1)\n",
    "        return x\n"
   ]
  },
  {
   "cell_type": "code",
   "execution_count": null,
   "metadata": {
    "colab": {
     "base_uri": "https://localhost:8080/"
    },
    "id": "bQWY0KPgZeTp",
    "outputId": "d2c67e33-26f7-411b-fff5-5d1d192651fb"
   },
   "outputs": [
    {
     "name": "stdout",
     "output_type": "stream",
     "text": [
      "Customize BatchNormalization 2d passed:  True\n"
     ]
    }
   ],
   "source": [
    "passed = verify_batchnorm()\n",
    "print('Customize BatchNormalization 2d passed: ', passed)"
   ]
  },
  {
   "cell_type": "markdown",
   "metadata": {
    "id": "b_4n1LUPmMtP"
   },
   "source": [
    "# Question 5. Loss function and SGD (15 points)\n",
    "In this question, you are asked to implement cross-entropy loss and SGD. If you directly use PyTorch build-in functions, e.g., ```torch.nn.functional.cross_entropy``` or ```torch.nn.CrossEntropyLoss``` or ```torch.optim.SGD```, you will only receive one mark for this question. But, you're welcom to use ```torch.nn.functional.softmax``` or ```torch.logsumexp```"
   ]
  },
  {
   "cell_type": "markdown",
   "metadata": {
    "id": "7Yejqtx36E8V"
   },
   "source": [
    "## Question 5.1. Computing graident of Cross-Entropy Loss. (5 points)\n",
    "\n",
    "Let $C$ be the number of classes. We define the cross-entropy loss as $L(\\hat{y}, k) = -\\sum_{i=1}^C y_i \\log \\hat{y}_i$, where $\\hat{y}$ is the output probability, $k$ is the true label, and $y = \\text{OneHot}(k)$. In practice, $\\hat{y} = \\text{softmax}(\\mathbf{W}f(\\mathbf{x}) + \\mathbf{b})$, where $\\mathbf{W} \\in \\mathbb{R}^{C \\times d}$, $\\mathbf{b} \\in \\mathbb{R}^C$, and $f(\\mathbf{x}) \\in \\mathbb{R}^d$. In this question, you are asked to compute the partial derivatives: $\\frac{\\partial L}{\\partial \\mathbf{W}{ij}}$ and $\\frac{\\partial L}{\\partial \\mathbf{b}_i}$."
   ]
  },
  {
   "cell_type": "markdown",
   "metadata": {
    "id": "sbeZTL34_KHo"
   },
   "source": [
    "#### Your Answer for Question 5.1:\n",
    "Let $z = Wf(x) + b$,\n",
    "\n",
    "$\\frac{\\partial L}{\\partial W_{ij}} = \\sum_{k=1}^C \\frac{\\partial L}{\\partial \\hat{y}_k} \\frac{\\partial \\hat{y}_k}{\\partial z_k} \\frac{\\partial z_k}{\\partial W_{ij}}= f(x)_j (\\hat{y}_i - y_i)$,\n",
    "\n",
    "$\\frac{\\partial L}{\\partial b_i} = \\sum_{k=1}^C \\frac{\\partial L}{\\partial \\hat{y}_k} \\frac{\\partial \\hat{y}_k}{\\partial z_k} \\frac{\\partial z_k}{\\partial b_i}= \\hat{y}_i - y_i$"
   ]
  },
  {
   "cell_type": "markdown",
   "metadata": {
    "id": "PPMsAq5bBwot"
   },
   "source": [
    "## Question 5.2. Implementing Cross Entropy Loss. (5 points)\n",
    "Please fill out ```cross_entropy``` function."
   ]
  },
  {
   "cell_type": "code",
   "execution_count": 6,
   "metadata": {
    "id": "u87aoD-5oMlP"
   },
   "outputs": [],
   "source": [
    "def cross_entropy(logits, labels):\n",
    "    \"\"\"\n",
    "    Args:\n",
    "    - logits: Tensor of logits (shape: [batch_size, num_classes]).\n",
    "    - labels: LongTensor of labels (shape: [batch_size]).\n",
    "\n",
    "    Returns:\n",
    "    - loss: the mean cross entropy loss.\n",
    "    \"\"\"\n",
    "    if not labels.dtype == torch.long:\n",
    "        raise ValueError(\"Labels dtype should be torch.long\")\n",
    "\n",
    "    # TODO: Cross-Entropy Loss\n",
    "    softmax = torch.nn.functional.softmax(logits, dim=1)\n",
    "    one_hot_labels = torch.zeros_like(softmax).scatter_(1, labels.unsqueeze(1), 1)\n",
    "    loss = -torch.sum(one_hot_labels * torch.log(softmax + 1e-5)) / logits.size(0)\n",
    "    return loss"
   ]
  },
  {
   "cell_type": "markdown",
   "metadata": {
    "id": "e3tqEAg1CDDk"
   },
   "source": [
    "## Question 5.3. Implementing SGD (5 points)\n",
    "Please fill out the ```step``` function in ```SGD```."
   ]
  },
  {
   "cell_type": "code",
   "execution_count": 17,
   "metadata": {
    "id": "FTDlVTxKootN"
   },
   "outputs": [],
   "source": [
    "class SGD(Optimizer):\n",
    "    def __init__(self, params, lr=0.01):\n",
    "        if lr < 0.0:\n",
    "            raise ValueError(\"Invalid learning rate: {}\".format(lr))\n",
    "\n",
    "        defaults = dict(lr=lr)\n",
    "        super(SGD, self).__init__(params, defaults)\n",
    "\n",
    "    def step(self, closure=None):\n",
    "        \"\"\"\n",
    "        Performs a single optimization step (parameter update).\n",
    "\n",
    "        Args:\n",
    "            closure (callable, optional): A closure that re-evaluates the model\n",
    "                and returns the loss. This is useful for certain types of\n",
    "                optimization algorithms that require re-evaluation of the loss.\n",
    "                For simple SGD, this is not typically used, i.e., closure=None.\n",
    "\n",
    "        Returns:\n",
    "            The loss returned by the closure if it is provided; otherwise, None.\n",
    "        \"\"\"\n",
    "        loss = None\n",
    "        if closure is not None:\n",
    "            loss = closure()\n",
    "\n",
    "        for group in self.param_groups:\n",
    "            for p in group['params']:\n",
    "                if p.grad is None:\n",
    "                    continue\n",
    "                # TODO: SGD\n",
    "                # Using SGD update rule for updating p.data\n",
    "                d_p = p.grad.data\n",
    "                p.data = p.data - group['lr'] * d_p\n",
    "\n",
    "        return loss"
   ]
  },
  {
   "cell_type": "markdown",
   "metadata": {
    "id": "g74ZJzJkqDRz"
   },
   "source": [
    "# Question 6. Combine them together to train a simple CNN (25 Points)\n",
    "\n",
    "In this exercise, you will leverage the custom ```Dropout``` and ```BatchNorm2d``` layers developed in previous questions to construct a simple CNN To enhance computational efficiency, please utilize ```nn.Conv2d``` for the convolution operations. The training process will employ ```cross_entropy``` as the loss function, with ```SGD``` serving as the optimizer to this model.\n",
    "\n",
    "Throughout the training phase, you should save the model that achieves the highest accuracy on the validation set. This step ensures that you can report the performance of the optimally performing model. Further, you should use ```plot_curves()``` to show the training/validation error rates."
   ]
  },
  {
   "cell_type": "markdown",
   "metadata": {
    "id": "Rtoe5_EN2-_Y"
   },
   "source": [
    "## Question 6.1\n",
    "In this question, you are required to build a simple CNN. This CNN should contain three convolutional blocks. Each block consists of the following layers: Conv2d, BatchNorm2d, ReLU, and MaxPool2d.\n",
    "\n",
    "Every Conv2d layer must have a ```kernel_size = 2``` and ```padding = 1```. The input_channels and output_channels for each convolutional layer are specified as follows: [(3, 16), (16, 32), (32, 64)]. For instance, the second Conv2d layer should have ```input_channels = 16``` and ```output_channels = 32```. After these three convolutional blocks, you must add an MLP as a classifier. The architecture of this MLP is (Linear(input_dim, hidden_dim), ReLU, Dropout, Linear(hidden_dim, num_classes)), where ```hidden_dim = 512```, ```num_classes = 10```, ```p=0.25``` for ```Dropout```. Please use MaxPool2d with ```kernel_size = 2``` and ```stride =2``` You need to determine the correct ```input_dim```.\n",
    "\n",
    "Pleas fill out ```__init__``` and ```forward``` in ```SimpleCNN```."
   ]
  },
  {
   "cell_type": "code",
   "execution_count": 8,
   "metadata": {
    "id": "67TqcInCnL51"
   },
   "outputs": [],
   "source": [
    "class SimpleCNN(nn.Module):\n",
    "    def __init__(self, num_classes=10):\n",
    "        super(SimpleCNN, self).__init__()\n",
    "\n",
    "        # TODO: initial CNN\n",
    "        self.conv1 = nn.Conv2d(in_channels=3, out_channels=16, kernel_size=2, padding=1)\n",
    "        self.bn1 = nn.BatchNorm2d(num_features=16)\n",
    "        self.pool1 = nn.MaxPool2d(kernel_size=2, stride=2)\n",
    "\n",
    "        self.conv2 = nn.Conv2d(in_channels=16, out_channels=32, kernel_size=2, padding=1)\n",
    "        self.bn2 = nn.BatchNorm2d(num_features=32)\n",
    "        self.pool2 = nn.MaxPool2d(kernel_size=2, stride=2)\n",
    "\n",
    "        self.conv3 = nn.Conv2d(in_channels=32, out_channels=64, kernel_size=2, padding=1)\n",
    "        self.bn3 = nn.BatchNorm2d(num_features=64)\n",
    "        self.pool3 = nn.MaxPool2d(kernel_size=2, stride=2)\n",
    "\n",
    "        self.flattened_size = 64 * 4 * 4\n",
    "        self.fc1 = nn.Linear(self.flattened_size, 512)\n",
    "        self.dropout = nn.Dropout(p=0.25)\n",
    "        self.fc2 = nn.Linear(512, num_classes)\n",
    "\n",
    "    def forward(self, x):\n",
    "        # TODO: feedforward function for CNN\n",
    "        x = self.pool1(F.relu(self.bn1(self.conv1(x))))\n",
    "        x = self.pool2(F.relu(self.bn2(self.conv2(x))))\n",
    "        x = self.pool3(F.relu(self.bn3(self.conv3(x))))\n",
    "        x = x.view(-1, self.flattened_size)\n",
    "        x = F.relu(self.fc1(x))\n",
    "        x = self.dropout(x)\n",
    "        x = self.fc2(x)\n",
    "        return x\n"
   ]
  },
  {
   "cell_type": "markdown",
   "metadata": {
    "id": "Y6dGRIuF3YtA"
   },
   "source": [
    "## Question 6.2. Train a simple CNN.\n",
    "In this question, you are to train a simple CNN for ```lr = 0.01``` using your SGD optimizer."
   ]
  },
  {
   "cell_type": "code",
   "execution_count": 23,
   "metadata": {
    "colab": {
     "base_uri": "https://localhost:8080/"
    },
    "id": "2S2JeX8e4Lo5",
    "outputId": "9262c69c-de66-45f7-c81d-5871739f4a18"
   },
   "outputs": [
    {
     "name": "stderr",
     "output_type": "stream",
     "text": [
      " 20%|██        | 10/50 [03:31<16:58, 25.45s/it]"
     ]
    },
    {
     "name": "stdout",
     "output_type": "stream",
     "text": [
      "Epoch: 10\n",
      "Average training loss: 1.414\n",
      "Current validation error rate: 42.030\n",
      "Val error rate is decreasing: {100.00%} -> {42.03%}\n",
      "Model saved\n"
     ]
    },
    {
     "name": "stderr",
     "output_type": "stream",
     "text": [
      " 40%|████      | 20/50 [07:02<12:50, 25.68s/it]"
     ]
    },
    {
     "name": "stdout",
     "output_type": "stream",
     "text": [
      "Epoch: 20\n",
      "Average training loss: 1.066\n",
      "Current validation error rate: 33.720\n",
      "Val error rate is decreasing: {42.03%} -> {33.72%}\n",
      "Model saved\n"
     ]
    },
    {
     "name": "stderr",
     "output_type": "stream",
     "text": [
      " 60%|██████    | 30/50 [10:30<08:25, 25.30s/it]"
     ]
    },
    {
     "name": "stdout",
     "output_type": "stream",
     "text": [
      "Epoch: 30\n",
      "Average training loss: 0.932\n",
      "Current validation error rate: 32.440\n",
      "Val error rate is decreasing: {33.72%} -> {32.44%}\n",
      "Model saved\n"
     ]
    },
    {
     "name": "stderr",
     "output_type": "stream",
     "text": [
      " 80%|████████  | 40/50 [13:59<04:15, 25.53s/it]"
     ]
    },
    {
     "name": "stdout",
     "output_type": "stream",
     "text": [
      "Epoch: 40\n",
      "Average training loss: 0.846\n",
      "Current validation error rate: 28.840\n",
      "Val error rate is decreasing: {32.44%} -> {28.84%}\n",
      "Model saved\n"
     ]
    },
    {
     "name": "stderr",
     "output_type": "stream",
     "text": [
      "100%|██████████| 50/50 [17:27<00:00, 20.95s/it]"
     ]
    },
    {
     "name": "stdout",
     "output_type": "stream",
     "text": [
      "Epoch: 50\n",
      "Average training loss: 0.785\n",
      "Current validation error rate: 27.810\n",
      "Val error rate is decreasing: {28.84%} -> {27.81%}\n",
      "Model saved\n"
     ]
    },
    {
     "name": "stderr",
     "output_type": "stream",
     "text": [
      "\n"
     ]
    }
   ],
   "source": [
    "n_epochs = 50\n",
    "eval_interval = 10\n",
    "model = SimpleCNN()\n",
    "model.to(device)\n",
    "optimizer = SGD(model.parameters())\n",
    "min_error = 1.0\n",
    "train_error_rates, val_error_rates = [], []\n",
    "running_loss, running_steps = 0.0, 0\n",
    "\n",
    "\n",
    "for epoch in tqdm(range(1, n_epochs + 1)):\n",
    "    model.train()\n",
    "    for imgs, labels in train_loader:\n",
    "        imgs, labels = imgs.to(device), labels.to(device)\n",
    "        logits = model(imgs)\n",
    "        optimizer.zero_grad()\n",
    "        loss = cross_entropy(logits, labels)\n",
    "        loss.backward()\n",
    "        optimizer.step()\n",
    "        running_loss += loss.item()\n",
    "        running_steps += 1\n",
    "\n",
    "    if epoch % eval_interval == 0:\n",
    "        train_error = 1 - eval_accuracy(model, train_loader, device)\n",
    "        val_error = 1 - eval_accuracy(model, val_loader, device)\n",
    "        val_error_rates.append(val_error)\n",
    "        train_error_rates.append(train_error)\n",
    "        # Append your error rates for plotting\n",
    "\n",
    "        print('Epoch: %d' % epoch)\n",
    "        print('Average training loss: %.3f' % (running_loss / running_steps))\n",
    "        print('Current validation error rate: %.3f' % (val_error * 100.0))\n",
    "        running_loss, running_steps = 0., 0\n",
    "        if val_error < min_error:\n",
    "            print('Val error rate is decreasing: {%.2f%%} -> {%.2f%%}' % (min_error * 100.0, val_error * 100.0))\n",
    "            torch.save(model.state_dict(), 'model_parameters.pth')\n",
    "            print('Model saved')\n",
    "\n",
    "        min_error = min(val_error, min_error)"
   ]
  },
  {
   "cell_type": "code",
   "execution_count": 24,
   "metadata": {
    "colab": {
     "base_uri": "https://localhost:8080/"
    },
    "id": "3c0netYoAF6O",
    "outputId": "b2ed1b5f-34c2-4649-bfaa-bacde47c2872"
   },
   "outputs": [
    {
     "name": "stdout",
     "output_type": "stream",
     "text": [
      "Test accuracy = 71.46%\n"
     ]
    }
   ],
   "source": [
    "model.load_state_dict(torch.load('model_parameters.pth'))\n",
    "test_acc = eval_accuracy(model, test_loader, device)\n",
    "print('Test accuracy = %.2f%%' % (test_acc * 100))"
   ]
  },
  {
   "cell_type": "code",
   "execution_count": 25,
   "metadata": {
    "colab": {
     "base_uri": "https://localhost:8080/",
     "height": 523
    },
    "id": "rKYdQRf8knlj",
    "outputId": "bc91e318-5748-4fb7-ef62-b8ef75c4000e"
   },
   "outputs": [
    {
     "data": {
      "image/png": "[encoded data removed]",
      "text/plain": [
       "<Figure size 1000x600 with 1 Axes>"
      ]
     },
     "metadata": {},
     "output_type": "display_data"
    }
   ],
   "source": [
    "plot_curves(train_error_rates, val_error_rates)"
   ]
  }
 ],
 "metadata": {
  "accelerator": "GPU",
  "anaconda-cloud": {},
  "colab": {
   "gpuType": "T4",
   "provenance": []
  },
  "kernelspec": {
   "display_name": "Python 3 (ipykernel)",
   "language": "python",
   "name": "python3"
  },
  "language_info": {
   "codemirror_mode": {
    "name": "ipython",
    "version": 3
   },
   "file_extension": ".py",
   "mimetype": "text/x-python",
   "name": "python",
   "nbconvert_exporter": "python",
   "pygments_lexer": "ipython3",
   "version": "3.9.13"
  },
  "toc": {
   "base_numbering": 1,
   "nav_menu": {},
   "number_sections": true,
   "sideBar": true,
   "skip_h1_title": false,
   "title_cell": "Table of Contents",
   "title_sidebar": "Contents",
   "toc_cell": false,
   "toc_position": {},
   "toc_section_display": true,
   "toc_window_display": false
  },
  "varInspector": {
   "cols": {
    "lenName": 16,
    "lenType": 16,
    "lenVar": 40
   },
   "kernels_config": {
    "python": {
     "delete_cmd_postfix": "",
     "delete_cmd_prefix": "del ",
     "library": "var_list.py",
     "varRefreshCmd": "print(var_dic_list())"
    },
    "r": {
     "delete_cmd_postfix": ") ",
     "delete_cmd_prefix": "rm(",
     "library": "var_list.r",
     "varRefreshCmd": "cat(var_dic_list()) "
    }
   },
   "types_to_exclude": [
    "module",
    "function",
    "builtin_function_or_method",
    "instance",
    "_Feature"
   ],
   "window_display": false
  }
 },
 "nbformat": 4,
 "nbformat_minor": 1
}
